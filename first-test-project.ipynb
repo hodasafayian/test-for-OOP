{
 "cells": [
  {
   "cell_type": "code",
   "execution_count": 5,
   "id": "04753aa9",
   "metadata": {},
   "outputs": [
    {
     "name": "stdout",
     "output_type": "stream",
     "text": [
      "I am going to sleep in a while\n",
      "I can meow\n",
      "I can hiss\n",
      "I am going to sleep in a while\n"
     ]
    }
   ],
   "source": [
    "from abc import ABC,abstractmethod\n",
    "class Animal(ABC):\n",
    " #concrete method\n",
    " # inherited\n",
    " def sleep(self):\n",
    "  print(\"I am going to sleep in a while\")\n",
    " #abstractmethod\n",
    " def sound(self):\n",
    "  print(\"This function is for defining the sound by any animal\")\n",
    "#Subclasses or child classes\n",
    "class Snake(Animal):\n",
    " def sound(self):\n",
    "  print(\"I can hiss\")\n",
    "class Dog(Animal):\n",
    " def sound(self):\n",
    "  print(\"I can bark\")\n",
    "class Lion(Animal):\n",
    " def sound(self):\n",
    "  print(\"I can roar\")\n",
    "\n",
    "class Cat(Animal):\n",
    " #overriding\n",
    " def sound(self):\n",
    "  print(\"I can meow\")\n",
    "c = Cat()\n",
    "c.sleep()\n",
    "c.sound()\n",
    "c = Snake()\n",
    "c.sound()\n",
    "c.sleep()\n"
   ]
  },
  {
   "cell_type": "code",
   "execution_count": null,
   "id": "e948a171",
   "metadata": {},
   "outputs": [],
   "source": []
  },
  {
   "cell_type": "code",
   "execution_count": null,
   "id": "fa2dff92",
   "metadata": {},
   "outputs": [],
   "source": []
  }
 ],
 "metadata": {
  "kernelspec": {
   "display_name": "Python 3 (ipykernel)",
   "language": "python",
   "name": "python3"
  },
  "language_info": {
   "codemirror_mode": {
    "name": "ipython",
    "version": 3
   },
   "file_extension": ".py",
   "mimetype": "text/x-python",
   "name": "python",
   "nbconvert_exporter": "python",
   "pygments_lexer": "ipython3",
   "version": "3.10.4"
  }
 },
 "nbformat": 4,
 "nbformat_minor": 5
}
